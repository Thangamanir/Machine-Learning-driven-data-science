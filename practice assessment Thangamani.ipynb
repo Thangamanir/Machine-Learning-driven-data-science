{
 "cells": [
  {
   "cell_type": "markdown",
   "metadata": {},
   "source": [
    "# MLDDS Practice Assessment (50 points)\n",
    "\n",
    "(Rename this workbook with your name)\n",
    "\n",
    "## Dataset\n",
    "\n",
    "The dataset has been downloaded for you and split into 2 parts. \n",
    "\n",
    "#### Important: Please use the included .csv files (instead of downloading from UCI's webpage). You can still refer to the Data Description on the UCI webpage.\n",
    "\n",
    "- training_data.csv: use for training and metrics (task 1 and 2)\n",
    "\n",
    "- prediction_data.csv: use for prediction (task 3)\n",
    "\n",
    "Data Description:\n",
    "https://archive.ics.uci.edu/ml/datasets/Breast+Cancer+Wisconsin+%28Diagnostic%29\n",
    "\n",
    "## Tasks\n",
    "1. Train classification models to predict whether a given breast cancer sample is malignant (M) or benign (B). [20 points]\n",
    "  - Use data from training_data.csv for training.\n",
    "\n",
    "2. Determine which model you selected performs the best: [20 points]\n",
    "  - use classification_report\n",
    "  - use confusion_matrix\n",
    "  - plot the roc_curve and compute the area under the curve (auc)\n",
    "  - state which model is the best performing one and why\n",
    "\n",
    "3. Demonstrate how you will use the model in deployment [10 points]\n",
    "  - Use data from prediction_data.csv\n",
    "  - Get a prediction from your best model, print out the prediction (malignant or benign).\n",
    "\n",
    "## Passing Requirements\n",
    "- To pass the assessment, you should compare at least 3 types of models (there is no upper limit).\n",
    "    - The model performance doesn't have to be the best possible, as long as you demonstrate how you compared them.\n",
    "    - One of the models for comparison can be the DummyClassifier (if you choose to use it)"
   ]
  },
  {
   "cell_type": "code",
   "execution_count": 1,
   "metadata": {},
   "outputs": [],
   "source": [
    "import numpy as np\n",
    "import pandas as pd\n",
    "import matplotlib.pyplot as plt\n",
    "from sklearn.preprocessing import StandardScaler\n",
    "from sklearn.decomposition import PCA\n",
    "from sklearn.preprocessing import LabelEncoder\n",
    "from sklearn.model_selection import train_test_split\n",
    "\n",
    "from sklearn.linear_model import LogisticRegression, SGDClassifier\n",
    "from sklearn.naive_bayes import GaussianNB\n",
    "from sklearn.metrics import classification_report, confusion_matrix\n",
    "from sklearn.model_selection import learning_curve\n",
    "import seaborn as sns\n",
    "from sklearn.metrics import auc, roc_curve\n",
    "from sklearn.dummy import DummyClassifier\n",
    "from sklearn.neighbors import KNeighborsClassifier"
   ]
  },
  {
   "cell_type": "markdown",
   "metadata": {},
   "source": [
    "## Train Classification Models (20 points)\n",
    "\n",
    "Train classification models to predict whether a given breast cancer sample is malignant (M) or benign (B). [20 points]\n",
    "  - Use data from training_data.csv for training.\n",
    "  \n",
    "Follow the steps below to transform the dataset and train your models."
   ]
  },
  {
   "cell_type": "markdown",
   "metadata": {},
   "source": [
    "### A. Load and Transform Dataset"
   ]
  },
  {
   "cell_type": "code",
   "execution_count": 2,
   "metadata": {},
   "outputs": [],
   "source": [
    "#Load data from csv\n",
    "df = pd.read_csv('C:/Users/thang/Documents/Thangamani/NUS/courseware/mldds-courseware/Assessment1/training_data.csv')\n"
   ]
  },
  {
   "cell_type": "code",
   "execution_count": 3,
   "metadata": {},
   "outputs": [
    {
     "name": "stdout",
     "output_type": "stream",
     "text": [
      "Index(['id', 'diagnosis', 'radius_mean', 'texture_mean', 'perimeter_mean',\n",
      "       'area_mean', 'smoothness_mean', 'compactness_mean', 'concavity_mean',\n",
      "       'concave points_mean', 'symmetry_mean', 'fractal_dimension_mean',\n",
      "       'radius_se', 'texture_se', 'perimeter_se', 'area_se', 'smoothness_se',\n",
      "       'compactness_se', 'concavity_se', 'concave points_se', 'symmetry_se',\n",
      "       'fractal_dimension_se', 'radius_worst', 'texture_worst',\n",
      "       'perimeter_worst', 'area_worst', 'smoothness_worst',\n",
      "       'compactness_worst', 'concavity_worst', 'concave points_worst',\n",
      "       'symmetry_worst', 'fractal_dimension_worst'],\n",
      "      dtype='object')\n",
      "(565, 32)\n",
      "id                           int64\n",
      "diagnosis                   object\n",
      "radius_mean                float64\n",
      "texture_mean               float64\n",
      "perimeter_mean             float64\n",
      "area_mean                  float64\n",
      "smoothness_mean            float64\n",
      "compactness_mean           float64\n",
      "concavity_mean             float64\n",
      "concave points_mean        float64\n",
      "symmetry_mean              float64\n",
      "fractal_dimension_mean     float64\n",
      "radius_se                  float64\n",
      "texture_se                 float64\n",
      "perimeter_se               float64\n",
      "area_se                    float64\n",
      "smoothness_se              float64\n",
      "compactness_se             float64\n",
      "concavity_se               float64\n",
      "concave points_se          float64\n",
      "symmetry_se                float64\n",
      "fractal_dimension_se       float64\n",
      "radius_worst               float64\n",
      "texture_worst              float64\n",
      "perimeter_worst            float64\n",
      "area_worst                 float64\n",
      "smoothness_worst           float64\n",
      "compactness_worst          float64\n",
      "concavity_worst            float64\n",
      "concave points_worst       float64\n",
      "symmetry_worst             float64\n",
      "fractal_dimension_worst    float64\n",
      "dtype: object\n"
     ]
    }
   ],
   "source": [
    "print(df.columns)\n",
    "print(df.shape)\n",
    "print(df.dtypes)"
   ]
  },
  {
   "cell_type": "code",
   "execution_count": 4,
   "metadata": {},
   "outputs": [
    {
     "name": "stdout",
     "output_type": "stream",
     "text": [
      "False\n",
      "Empty DataFrame\n",
      "Columns: [id, diagnosis, radius_mean, texture_mean, perimeter_mean, area_mean, smoothness_mean, compactness_mean, concavity_mean, concave points_mean, symmetry_mean, fractal_dimension_mean, radius_se, texture_se, perimeter_se, area_se, smoothness_se, compactness_se, concavity_se, concave points_se, symmetry_se, fractal_dimension_se, radius_worst, texture_worst, perimeter_worst, area_worst, smoothness_worst, compactness_worst, concavity_worst, concave points_worst, symmetry_worst, fractal_dimension_worst]\n",
      "Index: []\n",
      "\n",
      "[0 rows x 32 columns]\n",
      "['M' 'B']\n"
     ]
    }
   ],
   "source": [
    "print(df.isnull().values.any())\n",
    "print(df[df.isnull().any(axis=1)])\n",
    "print(df.diagnosis.unique())"
   ]
  },
  {
   "cell_type": "markdown",
   "metadata": {},
   "source": [
    "### B. Visualize\n",
    "\n",
    "Visualize the data in order to determine which classification model(s) to use."
   ]
  },
  {
   "cell_type": "code",
   "execution_count": 5,
   "metadata": {},
   "outputs": [
    {
     "name": "stdout",
     "output_type": "stream",
     "text": [
      "         id  diagnosis  radius_mean  texture_mean  perimeter_mean  area_mean  \\\n",
      "0    842302          1        17.99         10.38          122.80     1001.0   \n",
      "1    842517          1        20.57         17.77          132.90     1326.0   \n",
      "2  84300903          1        19.69         21.25          130.00     1203.0   \n",
      "3  84348301          1        11.42         20.38           77.58      386.1   \n",
      "4  84358402          1        20.29         14.34          135.10     1297.0   \n",
      "\n",
      "   smoothness_mean  compactness_mean  concavity_mean  concave points_mean  \\\n",
      "0          0.11840           0.27760          0.3001              0.14710   \n",
      "1          0.08474           0.07864          0.0869              0.07017   \n",
      "2          0.10960           0.15990          0.1974              0.12790   \n",
      "3          0.14250           0.28390          0.2414              0.10520   \n",
      "4          0.10030           0.13280          0.1980              0.10430   \n",
      "\n",
      "            ...             radius_worst  texture_worst  perimeter_worst  \\\n",
      "0           ...                    25.38          17.33           184.60   \n",
      "1           ...                    24.99          23.41           158.80   \n",
      "2           ...                    23.57          25.53           152.50   \n",
      "3           ...                    14.91          26.50            98.87   \n",
      "4           ...                    22.54          16.67           152.20   \n",
      "\n",
      "   area_worst  smoothness_worst  compactness_worst  concavity_worst  \\\n",
      "0      2019.0            0.1622             0.6656           0.7119   \n",
      "1      1956.0            0.1238             0.1866           0.2416   \n",
      "2      1709.0            0.1444             0.4245           0.4504   \n",
      "3       567.7            0.2098             0.8663           0.6869   \n",
      "4      1575.0            0.1374             0.2050           0.4000   \n",
      "\n",
      "   concave points_worst  symmetry_worst  fractal_dimension_worst  \n",
      "0                0.2654          0.4601                  0.11890  \n",
      "1                0.1860          0.2750                  0.08902  \n",
      "2                0.2430          0.3613                  0.08758  \n",
      "3                0.2575          0.6638                  0.17300  \n",
      "4                0.1625          0.2364                  0.07678  \n",
      "\n",
      "[5 rows x 32 columns]\n",
      "(565, 32)\n"
     ]
    }
   ],
   "source": [
    "enc_diag=LabelEncoder()\n",
    "df.diagnosis=enc_diag.fit_transform(df.diagnosis)\n",
    "\n",
    "print(df.head())\n",
    "print(df.shape)"
   ]
  },
  {
   "cell_type": "code",
   "execution_count": 6,
   "metadata": {},
   "outputs": [
    {
     "data": {
      "image/png": "[encoded data removed]",
      "text/plain": [
       "<Figure size 432x288 with 1 Axes>"
      ]
     },
     "metadata": {},
     "output_type": "display_data"
    }
   ],
   "source": [
    "pca = PCA(n_components=2)\n",
    "X= df.loc[:,'radius_mean':'fractal_dimension_worst']\n",
    "Y=df.loc[:,'diagnosis']\n",
    "\n",
    "\n",
    "X_2d=pca.fit_transform(X)\n",
    "fig,ax = plt.subplots()\n",
    "ax.scatter(X_2d[Y==0, 0], X_2d[Y==0, 1], color='g', label='Benign')\n",
    "ax.scatter(X_2d[Y==1, 0], X_2d[Y==1, 1], color='r', label='Malignant')\n",
    "ax.set(xlabel='X_2d[:, 0]', ylabel='X_2d[:, 1]',\n",
    "       title='UnScaled PCA plot of Wisconsin Diagnostic Breast Cancer')\n",
    "ax.legend()\n",
    "plt.show()"
   ]
  },
  {
   "cell_type": "code",
   "execution_count": 7,
   "metadata": {},
   "outputs": [
    {
     "data": {
      "image/png": "[encoded data removed]",
      "text/plain": [
       "<Figure size 432x288 with 1 Axes>"
      ]
     },
     "metadata": {},
     "output_type": "display_data"
    }
   ],
   "source": [
    "\n",
    "pca = PCA(n_components=2)\n",
    "X= df.loc[:,'radius_mean':'fractal_dimension_worst']\n",
    "Y=df.loc[:,'diagnosis']\n",
    "#scale and then plot PCA\n",
    "X_scaled = StandardScaler().fit_transform(X)\n",
    "\n",
    "X_2d=pca.fit_transform(X_scaled)\n",
    "fig,ax = plt.subplots()\n",
    "ax.scatter(X_2d[Y==0, 0], X_2d[Y==0, 1], color='g', label='Benign')\n",
    "ax.scatter(X_2d[Y==1, 0], X_2d[Y==1, 1], color='r', label='Malignant')\n",
    "ax.set(xlabel='X_2d[:, 0]', ylabel='X_2d[:, 1]',\n",
    "       title='Scaled PCA plot of Wisconsin Diagnostic Breast Cancer')\n",
    "ax.legend()\n",
    "plt.show()\n"
   ]
  },
  {
   "cell_type": "markdown",
   "metadata": {},
   "source": [
    "### C. Train test split"
   ]
  },
  {
   "cell_type": "code",
   "execution_count": 8,
   "metadata": {},
   "outputs": [
    {
     "name": "stdout",
     "output_type": "stream",
     "text": [
      "(423, 30) (142, 30) (423,) (142,)\n"
     ]
    }
   ],
   "source": [
    "train_x,test_x,train_y,test_y = train_test_split(X,Y,random_state=50)\n",
    "scaler_t = StandardScaler()\n",
    "train_x_scaled = scaler_t.fit_transform(train_x)\n",
    "test_x_scaled = scaler_t.transform(test_x)\n",
    "\n",
    "print(train_x.shape, test_x.shape, train_y.shape, test_y.shape)"
   ]
  },
  {
   "cell_type": "markdown",
   "metadata": {},
   "source": [
    "### D. Train models\n",
    "\n",
    "- To pass the assessment, you should compare at least 3 types of models (there is no upper limit).\n",
    "    - The model performance doesn't have to be the best possible, as long as you demonstrate how you compared them.\n",
    "    - One of the models for comparison can be the DummyClassifier (if you choose to use it)"
   ]
  },
  {
   "cell_type": "code",
   "execution_count": 9,
   "metadata": {},
   "outputs": [
    {
     "data": {
      "text/plain": [
       "array([0, 0, 0, 1, 0, 0, 1, 0, 0, 1, 0, 0, 0, 1, 1, 0, 1, 0, 1, 0, 1, 0,\n",
       "       0, 0, 0, 0, 0, 0, 0, 0, 0, 1, 1, 1, 1, 0, 0, 0, 0, 0, 0, 0, 1, 0,\n",
       "       0, 0, 0, 1, 0, 0, 0, 0, 1, 0, 0, 1, 0, 1, 1, 1, 0, 0, 0, 1, 1, 0,\n",
       "       1, 0, 0, 0, 0, 1, 0, 0, 1, 1, 0, 0, 0, 0, 0, 0, 0, 0, 1, 0, 0, 0,\n",
       "       1, 1, 1, 0, 0, 1, 1, 0, 0, 1, 0, 0, 0, 0, 1, 0, 1, 1, 0, 1, 1, 0,\n",
       "       1, 0, 0, 0, 0, 1, 0, 1, 1, 0, 0, 0, 1, 1, 0, 0, 1, 1, 0, 0, 0, 0,\n",
       "       1, 1, 0, 0, 0, 0, 1, 0, 1, 0], dtype=int64)"
      ]
     },
     "execution_count": 9,
     "metadata": {},
     "output_type": "execute_result"
    }
   ],
   "source": [
    "#Model :1 - Logistic Regression\n",
    "\n",
    "logistic = LogisticRegression(random_state=99)\n",
    "logistic.fit(train_x_scaled,train_y)\n",
    "y_pred_logistic = logistic.predict(test_x_scaled)\n",
    "y_pred_prob_logistic = logistic.predict(test_x_scaled)\n",
    "\n",
    "y_pred_logistic\n"
   ]
  },
  {
   "cell_type": "code",
   "execution_count": 10,
   "metadata": {},
   "outputs": [
    {
     "name": "stdout",
     "output_type": "stream",
     "text": [
      "-- Epoch 1\n",
      "Norm: 84.07, NNZs: 30, Bias: -17.400497, T: 423, Avg. loss: 2.188957\n",
      "Total training time: 0.00 seconds.\n",
      "-- Epoch 2\n",
      "Norm: 79.84, NNZs: 30, Bias: -10.004236, T: 846, Avg. loss: 1.025195\n",
      "Total training time: 0.00 seconds.\n",
      "-- Epoch 3\n",
      "Norm: 71.82, NNZs: 30, Bias: -5.236208, T: 1269, Avg. loss: 0.482600\n",
      "Total training time: 0.00 seconds.\n",
      "-- Epoch 4\n",
      "Norm: 63.56, NNZs: 30, Bias: -5.477862, T: 1692, Avg. loss: 0.619244\n",
      "Total training time: 0.00 seconds.\n",
      "Convergence after 4 epochs took 0.00 seconds\n"
     ]
    }
   ],
   "source": [
    "#Model:2 - SGDClassifier\n",
    "\n",
    "sgd = SGDClassifier(tol=1e-4, max_iter=1000, verbose=True, random_state=42)\n",
    "sgd.fit(train_x_scaled,train_y)\n",
    "y_pred_sgd = sgd.predict(test_x_scaled)"
   ]
  },
  {
   "cell_type": "code",
   "execution_count": 11,
   "metadata": {},
   "outputs": [],
   "source": [
    "#Model :3 - Naive Bayes\n",
    "nb = GaussianNB()\n",
    "nb.fit(train_x_scaled,train_y)\n",
    "y_pred_nb = nb.predict(test_x_scaled)\n"
   ]
  },
  {
   "cell_type": "code",
   "execution_count": 12,
   "metadata": {},
   "outputs": [
    {
     "data": {
      "text/plain": [
       "DummyClassifier(constant=None, random_state=259, strategy='stratified')"
      ]
     },
     "execution_count": 12,
     "metadata": {},
     "output_type": "execute_result"
    }
   ],
   "source": [
    "#Dummy Classifier for baseline in ROC curve\n",
    "baseline_dummy = DummyClassifier(random_state=259)\n",
    "baseline_dummy.fit(train_x_scaled, train_y)\n"
   ]
  },
  {
   "cell_type": "code",
   "execution_count": 13,
   "metadata": {},
   "outputs": [],
   "source": [
    "#Model 4 : K-Nearest Neighbours\n",
    "\n",
    "kn = KNeighborsClassifier()\n",
    "kn.fit(train_x_scaled, train_y)\n",
    "y_pred_kn = kn.predict(test_x_scaled)"
   ]
  },
  {
   "cell_type": "markdown",
   "metadata": {},
   "source": [
    "## Evaluation Metrics (20 points)\n",
    "\n",
    "Determine which model you selected performs the best: [20 points]\n",
    "  - use classification_report\n",
    "  - use confusion_matrix\n",
    "  - plot the roc_curve and compute the area under the curve (auc)\n",
    "  - state which model is the best performing one and why"
   ]
  },
  {
   "cell_type": "code",
   "execution_count": null,
   "metadata": {},
   "outputs": [],
   "source": [
    "\n",
    "\n",
    "\n"
   ]
  },
  {
   "cell_type": "markdown",
   "metadata": {},
   "source": [
    "### A. Classification Report and Confusion Matrix"
   ]
  },
  {
   "cell_type": "code",
   "execution_count": 14,
   "metadata": {},
   "outputs": [
    {
     "name": "stdout",
     "output_type": "stream",
     "text": [
      "**************LOGISTIC REGRESSION CLASSIFICAION REPORT***************\n",
      "             precision    recall  f1-score   support\n",
      "\n",
      "          0       0.96      0.99      0.97        90\n",
      "          1       0.98      0.92      0.95        52\n",
      "\n",
      "avg / total       0.97      0.96      0.96       142\n",
      "\n",
      "**************SGD CLASSIFICAION REPORT******************\n",
      "             precision    recall  f1-score   support\n",
      "\n",
      "          0       0.96      0.99      0.97        90\n",
      "          1       0.98      0.92      0.95        52\n",
      "\n",
      "avg / total       0.97      0.96      0.96       142\n",
      "\n",
      "**************Naive Bayes CLASSIFICAION REPORT******************\n",
      "             precision    recall  f1-score   support\n",
      "\n",
      "          0       0.94      0.93      0.94        90\n",
      "          1       0.89      0.90      0.90        52\n",
      "\n",
      "avg / total       0.92      0.92      0.92       142\n",
      "\n",
      "**************K-Nearest neighbours CLASSIFICAION REPORT******************\n",
      "             precision    recall  f1-score   support\n",
      "\n",
      "          0       0.95      0.97      0.96        90\n",
      "          1       0.94      0.90      0.92        52\n",
      "\n",
      "avg / total       0.94      0.94      0.94       142\n",
      "\n"
     ]
    }
   ],
   "source": [
    "print(\"**************LOGISTIC REGRESSION CLASSIFICAION REPORT***************\")\n",
    "\n",
    "print(classification_report(test_y, y_pred_logistic))\n",
    "\n",
    "print(\"**************SGD CLASSIFICAION REPORT******************\")\n",
    "print(classification_report(test_y, y_pred_sgd))\n",
    "\n",
    "print(\"**************Naive Bayes CLASSIFICAION REPORT******************\")\n",
    "print(classification_report(test_y, y_pred_nb))\n",
    "\n",
    "print(\"**************K-Nearest neighbours CLASSIFICAION REPORT******************\")\n",
    "print(classification_report(test_y, y_pred_kn))\n"
   ]
  },
  {
   "cell_type": "code",
   "execution_count": 15,
   "metadata": {},
   "outputs": [
    {
     "data": {
      "image/png": "[encoded data removed]",
      "text/plain": [
       "<Figure size 1080x432 with 4 Axes>"
      ]
     },
     "metadata": {},
     "output_type": "display_data"
    },
    {
     "data": {
      "image/png": "[encoded data removed]",
      "text/plain": [
       "<Figure size 432x288 with 2 Axes>"
      ]
     },
     "metadata": {},
     "output_type": "display_data"
    },
    {
     "data": {
      "image/png": "[encoded data removed]",
      "text/plain": [
       "<Figure size 432x288 with 2 Axes>"
      ]
     },
     "metadata": {},
     "output_type": "display_data"
    }
   ],
   "source": [
    "cm_logistic = confusion_matrix(test_y, y_pred_logistic)\n",
    "cm_sgd = confusion_matrix(test_y, y_pred_sgd)\n",
    "%matplotlib inline\n",
    "\n",
    "\n",
    "fig, axes = plt.subplots(nrows=1, ncols=2, figsize=(15, 6))\n",
    "ax = axes.flatten()\n",
    "\n",
    "# annotate cells with ticks\n",
    "sns.heatmap(cm_logistic, annot=True, ax=ax[0])\n",
    "sns.heatmap(cm_sgd, annot=True, ax=ax[1])\n",
    "\n",
    "ax[0].set(xlabel='Predicted labels', ylabel='True labels', title='Confusion Matrix (Logistic Regression)') \n",
    "ax[0].xaxis.set_ticklabels(['Benign', 'Malignant'])\n",
    "ax[0].yaxis.set_ticklabels(['Benign', 'Malignant'])\n",
    "\n",
    "ax[1].set(xlabel='Predicted labels', ylabel='True labels', title='Confusion Matrix (Logistic Regression using SGD)'); \n",
    "ax[1].xaxis.set_ticklabels(['Benign', 'Malignant'])\n",
    "ax[1].yaxis.set_ticklabels(['Benign', 'Malignant'])\n",
    "plt.show()\n",
    "\n",
    "cm_nb = confusion_matrix(test_y, y_pred_nb)\n",
    "\n",
    "fig, ax = plt.subplots()\n",
    "sns.heatmap(cm_nb, annot=True, ax=ax)\n",
    "\n",
    "ax.set(xlabel='Predicted labels', ylabel='True labels', title='Confusion Matrix (Gaussian Naive Bayes)') \n",
    "ax.xaxis.set_ticklabels(['Benign', 'Malignant'])\n",
    "ax.yaxis.set_ticklabels(['Benign', 'Malignant'])\n",
    "plt.show()\n",
    "\n",
    "cm_kn = confusion_matrix(test_y, y_pred_kn)\n",
    "\n",
    "fig, ax = plt.subplots()\n",
    "sns.heatmap(cm_kn, annot=True, ax=ax)\n",
    "\n",
    "ax.set(xlabel='Predicted labels', ylabel='True labels', title='Confusion Matrix (k=5 nearest neighbours)') \n",
    "ax.xaxis.set_ticklabels(['Benign', 'Malignant'])\n",
    "ax.yaxis.set_ticklabels(['Benign', 'Malignant'])\n",
    "plt.show()"
   ]
  },
  {
   "cell_type": "code",
   "execution_count": null,
   "metadata": {},
   "outputs": [],
   "source": []
  },
  {
   "cell_type": "markdown",
   "metadata": {},
   "source": [
    "###  B. ROC curve and Area under the ROC curve"
   ]
  },
  {
   "cell_type": "code",
   "execution_count": 16,
   "metadata": {},
   "outputs": [
    {
     "data": {
      "image/png": "[encoded data removed]",
      "text/plain": [
       "<Figure size 720x576 with 1 Axes>"
      ]
     },
     "metadata": {},
     "output_type": "display_data"
    }
   ],
   "source": [
    "#Baseline for ROC curve\n",
    "y_confidence_baseline = baseline_dummy.predict_proba(test_x_scaled)\n",
    "fpr_baseline, tpr_baseline, _ = roc_curve(test_y, y_confidence_baseline[:, 1], pos_label=1)\n",
    "auc_baseline = auc(fpr_baseline, tpr_baseline)\n",
    "\n",
    "# Logistic Regression\n",
    "y_confidence_logistic = logistic.predict_proba(test_x_scaled)\n",
    "fpr_logistic, tpr_logistic, _ = roc_curve(test_y, y_confidence_logistic[:, 1], pos_label=1)\n",
    "auc_logistic = auc(fpr_logistic, tpr_logistic)\n",
    "\n",
    "\n",
    "# Naive Bayes\n",
    "y_confidence_nb = nb.predict_proba(test_x_scaled)\n",
    "fpr_nb, tpr_nb, _ = roc_curve(test_y, y_confidence_nb[:, 1], pos_label=1)\n",
    "auc_nb = auc(fpr_nb, tpr_nb)\n",
    "\n",
    "# K-Nearest Neighbours\n",
    "y_confidence_knn = kn.predict_proba(test_x_scaled)\n",
    "fpr_knn, tpr_knn, _ = roc_curve(test_y, y_confidence_knn[:, 1], pos_label=1)\n",
    "auc_knn = auc(fpr_knn, tpr_knn)\n",
    "\n",
    "# Plot the ROCs\n",
    "fig, ax = plt.subplots(figsize=(10, 8))\n",
    "\n",
    "ax.plot(fpr_baseline, tpr_baseline, label='Baseline (area = %0.2f)' % auc_baseline,\n",
    "        linestyle='dashed')\n",
    "ax.plot(fpr_logistic, tpr_logistic, label='Logistic Regression (area = %0.2f)' % auc_logistic)\n",
    "ax.plot(fpr_nb, tpr_nb, label='Naive Bayes (area = %0.2f)' % auc_nb)\n",
    "ax.plot(fpr_knn, tpr_knn, label='K Nearest Neighbors (area = %0.2f)' % auc_knn)\n",
    "\n",
    "# bigger area is better\n",
    "ax.set(xlabel='false positive rate', ylabel='true positive rate',\n",
    "       title='ROC curves for Wisconsin Diagnostic Breast Cancer  (positive label=1)')\n",
    "ax.legend()\n",
    "ax.grid()\n",
    "plt.show()"
   ]
  },
  {
   "cell_type": "code",
   "execution_count": 17,
   "metadata": {
    "scrolled": false
   },
   "outputs": [
    {
     "data": {
      "text/plain": [
       "'\\n4 Models Logistic Regression, SGD and Naive Bayes have been used for this practice assessment.\\n\\nBased on the F1 scores:\\n    Logistic Regression and SGD have Average F1 score of 0.96\\n    Naive Bayes has an average F1 score of 0.92.\\n    KNN has an average F1 score of 0.94\\n        \\n    As per F1 scores Logistic Regression and SGD have slightly higher F1 scores and hence are considered \\n    better models than Naive Bayes & K-Nearest Neighbours.\\n    \\nROC curve:\\n    Same is predicted in the ROC curve as well. Larger area under ROC better prediction.\\n    \\n\\n'"
      ]
     },
     "execution_count": 17,
     "metadata": {},
     "output_type": "execute_result"
    }
   ],
   "source": [
    "'''\n",
    "4 Models Logistic Regression, SGD and Naive Bayes have been used for this practice assessment.\n",
    "\n",
    "Based on the F1 scores:\n",
    "    Logistic Regression and SGD have Average F1 score of 0.96\n",
    "    Naive Bayes has an average F1 score of 0.92.\n",
    "    KNN has an average F1 score of 0.94\n",
    "        \n",
    "    As per F1 scores Logistic Regression and SGD have slightly higher F1 scores and hence are considered \n",
    "    better models than Naive Bayes & K-Nearest Neighbours.\n",
    "    \n",
    "ROC curve:\n",
    "    Same is predicted in the ROC curve as well. Larger area under ROC better prediction.\n",
    "    \n",
    "\n",
    "'''"
   ]
  },
  {
   "cell_type": "markdown",
   "metadata": {},
   "source": [
    "## Prediction (10 points)\n",
    "\n",
    "Demonstrate how you will use the model in deployment [10 points]\n",
    "  - Use data from prediction_data.csv\n",
    "  - Get a prediction from your best model, print out the prediction (malignant or benign)."
   ]
  },
  {
   "cell_type": "code",
   "execution_count": 18,
   "metadata": {},
   "outputs": [],
   "source": [
    "df_predict = pd.read_csv('C:/Users/thang/Documents/Thangamani/NUS/courseware/mldds-courseware/Assessment1/prediction_data.csv')\n",
    "\n",
    "#print(df_predict.isnull().values.any())\n",
    "#print(df_predict[df_predict.isnull().any(axis=1)])\n",
    "#df_predict.dropna(inplace=True)\n"
   ]
  },
  {
   "cell_type": "code",
   "execution_count": 19,
   "metadata": {},
   "outputs": [
    {
     "data": {
      "text/plain": [
       "id                           int64\n",
       "diagnosis                    int64\n",
       "radius_mean                float64\n",
       "texture_mean               float64\n",
       "perimeter_mean             float64\n",
       "area_mean                  float64\n",
       "smoothness_mean            float64\n",
       "compactness_mean           float64\n",
       "concavity_mean             float64\n",
       "concave points_mean        float64\n",
       "symmetry_mean              float64\n",
       "fractal_dimension_mean     float64\n",
       "radius_se                  float64\n",
       "texture_se                 float64\n",
       "perimeter_se               float64\n",
       "area_se                    float64\n",
       "smoothness_se              float64\n",
       "compactness_se             float64\n",
       "concavity_se               float64\n",
       "concave points_se          float64\n",
       "symmetry_se                float64\n",
       "fractal_dimension_se       float64\n",
       "radius_worst               float64\n",
       "texture_worst              float64\n",
       "perimeter_worst            float64\n",
       "area_worst                 float64\n",
       "smoothness_worst           float64\n",
       "compactness_worst          float64\n",
       "concavity_worst            float64\n",
       "concave points_worst       float64\n",
       "symmetry_worst             float64\n",
       "fractal_dimension_worst    float64\n",
       "dtype: object"
      ]
     },
     "execution_count": 19,
     "metadata": {},
     "output_type": "execute_result"
    }
   ],
   "source": [
    "enc_diag_pred=LabelEncoder()\n",
    "df_predict.diagnosis=enc_diag_pred.fit_transform(df_predict.diagnosis)\n",
    "\n",
    "df_predict.dtypes"
   ]
  },
  {
   "cell_type": "code",
   "execution_count": 20,
   "metadata": {},
   "outputs": [
    {
     "name": "stdout",
     "output_type": "stream",
     "text": [
      "Number of mislabeled points out of 4 points:\n",
      "Logistic Regression: 1, Mean Accuracy: 0.750\n",
      "Logistic Regression (SGD): 1, Mean Accuracy: 0.750\n",
      "\n",
      "Truth (1=malignant, 0=benign) 0    1\n",
      "1    1\n",
      "2    1\n",
      "3    0\n",
      "Name: diagnosis, dtype: int64\n",
      "Logistic Regression [1 1 1 1]\n",
      "Logistic Regression with SGD [1 1 1 1]\n"
     ]
    }
   ],
   "source": [
    "# Prediction has been done for logistic regression & SGD models\n",
    "#print(df_predict.head())\n",
    "#print(df_predict.shape)\n",
    "#X= df.loc[:,'radius_mean':'fractal_dimension_worst']\n",
    "#Y=df.loc[:,'diagnosis']\n",
    "\n",
    "test = df_predict.loc[:,'radius_mean':'fractal_dimension_worst']\n",
    "truth = df_predict.loc[:,'diagnosis']\n",
    "\n",
    "pred_lr = logistic.predict(test)\n",
    "pred_sgd = sgd.predict(test)\n",
    "\n",
    "\n",
    "print('Number of mislabeled points out of %d points:' % test.shape[0])\n",
    "print('Logistic Regression: %d, Mean Accuracy: %.3f' % ((truth != pred_lr).sum(),\n",
    "                                              logistic.score(test, truth)))\n",
    "print('Logistic Regression (SGD): %d, Mean Accuracy: %.3f' % ((truth != pred_sgd).sum(),\n",
    "                                                            sgd.score(test, truth)))\n",
    "\n",
    "# print first 10 test datapoints and predictions\n",
    "print()\n",
    "print('Truth (1=malignant, 0=benign)', truth[:10])\n",
    "print('Logistic Regression', pred_lr[:10])\n",
    "print('Logistic Regression with SGD', pred_sgd[:10])\n"
   ]
  },
  {
   "cell_type": "code",
   "execution_count": 21,
   "metadata": {},
   "outputs": [
    {
     "data": {
      "text/plain": [
       "'This complete code can either be deployed in Pickle or can be \\ndeployed as standalone python script for deployemnt into production'"
      ]
     },
     "execution_count": 21,
     "metadata": {},
     "output_type": "execute_result"
    }
   ],
   "source": [
    "'''This complete code can either be deployed in Pickle or can be \n",
    "deployed as standalone python script for deployemnt into production'''"
   ]
  },
  {
   "cell_type": "code",
   "execution_count": 22,
   "metadata": {},
   "outputs": [
    {
     "ename": "AttributeError",
     "evalue": "'LogisticRegression' object has no attribute 'export'",
     "output_type": "error",
     "traceback": [
      "\u001b[1;31m---------------------------------------------------------------------------\u001b[0m",
      "\u001b[1;31mAttributeError\u001b[0m                            Traceback (most recent call last)",
      "\u001b[1;32m<ipython-input-22-044e9b5b00b8>\u001b[0m in \u001b[0;36m<module>\u001b[1;34m()\u001b[0m\n\u001b[1;32m----> 1\u001b[1;33m \u001b[0mlogistic\u001b[0m\u001b[1;33m.\u001b[0m\u001b[0mexport\u001b[0m\u001b[1;33m(\u001b[0m\u001b[1;34m'logistic.pkl'\u001b[0m\u001b[1;33m)\u001b[0m\u001b[1;33m\u001b[0m\u001b[0m\n\u001b[0m",
      "\u001b[1;31mAttributeError\u001b[0m: 'LogisticRegression' object has no attribute 'export'"
     ]
    }
   ],
   "source": [
    "logistic.export('logistic.pkl')"
   ]
  },
  {
   "cell_type": "code",
   "execution_count": null,
   "metadata": {},
   "outputs": [],
   "source": []
  }
 ],
 "metadata": {
  "kernelspec": {
   "display_name": "Python 3",
   "language": "python",
   "name": "python3"
  },
  "language_info": {
   "codemirror_mode": {
    "name": "ipython",
    "version": 3
   },
   "file_extension": ".py",
   "mimetype": "text/x-python",
   "name": "python",
   "nbconvert_exporter": "python",
   "pygments_lexer": "ipython3",
   "version": "3.6.5"
  }
 },
 "nbformat": 4,
 "nbformat_minor": 2
}
