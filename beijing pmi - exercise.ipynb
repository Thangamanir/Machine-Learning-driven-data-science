{
 "cells": [
  {
   "cell_type": "markdown",
   "metadata": {},
   "source": [
    "# Exercise - Basic Training Workflow"
   ]
  },
  {
   "cell_type": "markdown",
   "metadata": {},
   "source": [
    "## Objective\n",
    "Predict PM2.5 concentration based on the other features."
   ]
  },
  {
   "cell_type": "markdown",
   "metadata": {},
   "source": [
    "# Dataset\n",
    "\n",
    "https://archive.ics.uci.edu/ml/datasets/Beijing+PM2.5+Data"
   ]
  },
  {
   "cell_type": "markdown",
   "metadata": {},
   "source": [
    "# Tasks\n",
    "\n",
    "1. Import data through read_csv\n",
    "2. Explore / transform / clean data\n",
    "3. Shuffle data and split into training and test sets\n",
    "4. Scale the training and test sets\n",
    "5. Train linear regression and evaluate metrics\n",
    "6. Train linear regression with Stochastic Gradient Descent and evaluate metrics\n",
    "7. Get a prediction"
   ]
  },
  {
   "cell_type": "code",
   "execution_count": 2,
   "metadata": {},
   "outputs": [],
   "source": [
    "import pandas as pd\n",
    "import numpy as np\n",
    "from sklearn.decomposition import PCA\n",
    "from mpl_toolkits.mplot3d import Axes3D\n",
    "import matplotlib.pyplot as plt\n",
    "from sklearn.model_selection import train_test_split\n",
    "from sklearn.preprocessing import StandardScaler\n",
    "from sklearn.linear_model import LinearRegression\n",
    "from sklearn.metrics import mean_squared_error, r2_score\n",
    "from sklearn.linear_model import SGDRegressor"
   ]
  },
  {
   "cell_type": "markdown",
   "metadata": {},
   "source": [
    "## 1. Import data through read_csv \n",
    "\n",
    "(Estimated time: 30 min)\n",
    "\n",
    "Check:\n",
    "- Did the data import correctly?\n",
    "- What are the types of each column? Are there non-numeric types?\n",
    "- How large is the dataset?"
   ]
  },
  {
   "cell_type": "code",
   "execution_count": 3,
   "metadata": {},
   "outputs": [
    {
     "data": {
      "text/html": [
       "<div>\n",
       "<style scoped>\n",
       "    .dataframe tbody tr th:only-of-type {\n",
       "        vertical-align: middle;\n",
       "    }\n",
       "\n",
       "    .dataframe tbody tr th {\n",
       "        vertical-align: top;\n",
       "    }\n",
       "\n",
       "    .dataframe thead th {\n",
       "        text-align: right;\n",
       "    }\n",
       "</style>\n",
       "<table border=\"1\" class=\"dataframe\">\n",
       "  <thead>\n",
       "    <tr style=\"text-align: right;\">\n",
       "      <th></th>\n",
       "      <th>No</th>\n",
       "      <th>year</th>\n",
       "      <th>month</th>\n",
       "      <th>day</th>\n",
       "      <th>hour</th>\n",
       "      <th>pm2.5</th>\n",
       "      <th>DEWP</th>\n",
       "      <th>TEMP</th>\n",
       "      <th>PRES</th>\n",
       "      <th>cbwd</th>\n",
       "      <th>Iws</th>\n",
       "      <th>Is</th>\n",
       "      <th>Ir</th>\n",
       "    </tr>\n",
       "  </thead>\n",
       "  <tbody>\n",
       "    <tr>\n",
       "      <th>0</th>\n",
       "      <td>1</td>\n",
       "      <td>2010</td>\n",
       "      <td>1</td>\n",
       "      <td>1</td>\n",
       "      <td>0</td>\n",
       "      <td>NaN</td>\n",
       "      <td>-21</td>\n",
       "      <td>-11.0</td>\n",
       "      <td>1021.0</td>\n",
       "      <td>NW</td>\n",
       "      <td>1.79</td>\n",
       "      <td>0</td>\n",
       "      <td>0</td>\n",
       "    </tr>\n",
       "    <tr>\n",
       "      <th>1</th>\n",
       "      <td>2</td>\n",
       "      <td>2010</td>\n",
       "      <td>1</td>\n",
       "      <td>1</td>\n",
       "      <td>1</td>\n",
       "      <td>NaN</td>\n",
       "      <td>-21</td>\n",
       "      <td>-12.0</td>\n",
       "      <td>1020.0</td>\n",
       "      <td>NW</td>\n",
       "      <td>4.92</td>\n",
       "      <td>0</td>\n",
       "      <td>0</td>\n",
       "    </tr>\n",
       "    <tr>\n",
       "      <th>2</th>\n",
       "      <td>3</td>\n",
       "      <td>2010</td>\n",
       "      <td>1</td>\n",
       "      <td>1</td>\n",
       "      <td>2</td>\n",
       "      <td>NaN</td>\n",
       "      <td>-21</td>\n",
       "      <td>-11.0</td>\n",
       "      <td>1019.0</td>\n",
       "      <td>NW</td>\n",
       "      <td>6.71</td>\n",
       "      <td>0</td>\n",
       "      <td>0</td>\n",
       "    </tr>\n",
       "    <tr>\n",
       "      <th>3</th>\n",
       "      <td>4</td>\n",
       "      <td>2010</td>\n",
       "      <td>1</td>\n",
       "      <td>1</td>\n",
       "      <td>3</td>\n",
       "      <td>NaN</td>\n",
       "      <td>-21</td>\n",
       "      <td>-14.0</td>\n",
       "      <td>1019.0</td>\n",
       "      <td>NW</td>\n",
       "      <td>9.84</td>\n",
       "      <td>0</td>\n",
       "      <td>0</td>\n",
       "    </tr>\n",
       "    <tr>\n",
       "      <th>4</th>\n",
       "      <td>5</td>\n",
       "      <td>2010</td>\n",
       "      <td>1</td>\n",
       "      <td>1</td>\n",
       "      <td>4</td>\n",
       "      <td>NaN</td>\n",
       "      <td>-20</td>\n",
       "      <td>-12.0</td>\n",
       "      <td>1018.0</td>\n",
       "      <td>NW</td>\n",
       "      <td>12.97</td>\n",
       "      <td>0</td>\n",
       "      <td>0</td>\n",
       "    </tr>\n",
       "  </tbody>\n",
       "</table>\n",
       "</div>"
      ],
      "text/plain": [
       "   No  year  month  day  hour  pm2.5  DEWP  TEMP    PRES cbwd    Iws  Is  Ir\n",
       "0   1  2010      1    1     0    NaN   -21 -11.0  1021.0   NW   1.79   0   0\n",
       "1   2  2010      1    1     1    NaN   -21 -12.0  1020.0   NW   4.92   0   0\n",
       "2   3  2010      1    1     2    NaN   -21 -11.0  1019.0   NW   6.71   0   0\n",
       "3   4  2010      1    1     3    NaN   -21 -14.0  1019.0   NW   9.84   0   0\n",
       "4   5  2010      1    1     4    NaN   -20 -12.0  1018.0   NW  12.97   0   0"
      ]
     },
     "execution_count": 3,
     "metadata": {},
     "output_type": "execute_result"
    }
   ],
   "source": [
    "df = pd.read_csv('C:/Users/thang/Documents/Thangamani/NUS/courseware/mldds-courseware/02_BasicMLAlgorithms/PRSA_data_2010.1.1-2014.12.31.csv')\n",
    "df.head()"
   ]
  },
  {
   "cell_type": "code",
   "execution_count": 4,
   "metadata": {},
   "outputs": [
    {
     "data": {
      "text/plain": [
       "Index(['No', 'year', 'month', 'day', 'hour', 'pm2.5', 'DEWP', 'TEMP', 'PRES',\n",
       "       'cbwd', 'Iws', 'Is', 'Ir'],\n",
       "      dtype='object')"
      ]
     },
     "execution_count": 4,
     "metadata": {},
     "output_type": "execute_result"
    }
   ],
   "source": [
    "df.columns"
   ]
  },
  {
   "cell_type": "code",
   "execution_count": 5,
   "metadata": {},
   "outputs": [
    {
     "data": {
      "text/plain": [
       "(43824, 13)"
      ]
     },
     "execution_count": 5,
     "metadata": {},
     "output_type": "execute_result"
    }
   ],
   "source": [
    "df.shape"
   ]
  },
  {
   "cell_type": "code",
   "execution_count": 6,
   "metadata": {},
   "outputs": [
    {
     "data": {
      "text/plain": [
       "No         int64\n",
       "year       int64\n",
       "month      int64\n",
       "day        int64\n",
       "hour       int64\n",
       "pm2.5    float64\n",
       "DEWP       int64\n",
       "TEMP     float64\n",
       "PRES     float64\n",
       "cbwd      object\n",
       "Iws      float64\n",
       "Is         int64\n",
       "Ir         int64\n",
       "dtype: object"
      ]
     },
     "execution_count": 6,
     "metadata": {},
     "output_type": "execute_result"
    }
   ],
   "source": [
    "df.dtypes"
   ]
  },
  {
   "cell_type": "markdown",
   "metadata": {},
   "source": [
    "## 2. Explore / transform / clean data \n",
    "\n",
    "(Estimated time: 60 min)\n",
    "\n",
    "You should:\n",
    "- do something with the NaN values\n",
    "- ignore the non-numeric column for now. We will cover label encoding later (if you are really curious or want to try it, open clustering.ipynb and search for 'LabelEncoder').\n",
    "- plot the data to see if there is a correlation. You can choose to:\n",
    "   - plot the data in 2d or 3d after applying PCA to reduce dimensions, or\n",
    "   - plot multiple plots per column"
   ]
  },
  {
   "cell_type": "code",
   "execution_count": 7,
   "metadata": {},
   "outputs": [],
   "source": [
    "df.dropna(inplace=True)"
   ]
  },
  {
   "cell_type": "code",
   "execution_count": 8,
   "metadata": {},
   "outputs": [
    {
     "data": {
      "text/plain": [
       "(41757, 13)"
      ]
     },
     "execution_count": 8,
     "metadata": {},
     "output_type": "execute_result"
    }
   ],
   "source": [
    "df.shape"
   ]
  },
  {
   "cell_type": "code",
   "execution_count": 9,
   "metadata": {},
   "outputs": [],
   "source": [
    "df.drop(columns='cbwd',inplace=True)"
   ]
  },
  {
   "cell_type": "code",
   "execution_count": 10,
   "metadata": {},
   "outputs": [
    {
     "data": {
      "text/plain": [
       "(41757, 12)"
      ]
     },
     "execution_count": 10,
     "metadata": {},
     "output_type": "execute_result"
    }
   ],
   "source": [
    "df.shape"
   ]
  },
  {
   "cell_type": "code",
   "execution_count": 11,
   "metadata": {},
   "outputs": [
    {
     "data": {
      "text/plain": [
       "No         int64\n",
       "year       int64\n",
       "month      int64\n",
       "day        int64\n",
       "hour       int64\n",
       "pm2.5    float64\n",
       "DEWP       int64\n",
       "TEMP     float64\n",
       "PRES     float64\n",
       "Iws      float64\n",
       "Is         int64\n",
       "Ir         int64\n",
       "dtype: object"
      ]
     },
     "execution_count": 11,
     "metadata": {},
     "output_type": "execute_result"
    }
   ],
   "source": [
    "df.dtypes"
   ]
  },
  {
   "cell_type": "code",
   "execution_count": 12,
   "metadata": {},
   "outputs": [],
   "source": [
    "pca = PCA(n_components=2)\n",
    "X=df.loc[:,'DEWP':'Ir']\n",
    "X_2d = pca.fit_transform(X)"
   ]
  },
  {
   "cell_type": "code",
   "execution_count": 13,
   "metadata": {},
   "outputs": [
    {
     "data": {
      "image/png": "[encoded data removed]",
      "text/plain": [
       "<Figure size 576x432 with 1 Axes>"
      ]
     },
     "metadata": {},
     "output_type": "display_data"
    }
   ],
   "source": [
    "fig = plt.figure(1, figsize=(8,6))\n",
    "ax=Axes3D(fig)\n",
    "ax.scatter(X_2d[:,0],X_2d[:,1],df['pm2.5'])\n",
    "\n",
    "ax.set_xlabel('Parameters')\n",
    "ax.set_ylabel('PM2.5')\n",
    "\n",
    "ax.set(title = 'PM2.5 vs. 2-D projection of features')\n",
    "plt.show()"
   ]
  },
  {
   "cell_type": "code",
   "execution_count": 14,
   "metadata": {},
   "outputs": [
    {
     "data": {
      "text/plain": [
       "[Text(0,0.5,'pm2.5'), Text(0.5,0,'Other params')]"
      ]
     },
     "execution_count": 14,
     "metadata": {},
     "output_type": "execute_result"
    },
    {
     "data": {
      "image/png": "[encoded data removed]",
      "text/plain": [
       "<Figure size 432x288 with 1 Axes>"
      ]
     },
     "metadata": {},
     "output_type": "display_data"
    }
   ],
   "source": [
    "pca1 = PCA(n_components=1)\n",
    "X = df.loc[:,'DEWP':'Ir']\n",
    "X_1d = pca1.fit_transform(X)\n",
    "\n",
    "fig,ax = plt.subplots()\n",
    "ax.scatter(X_1d,df['pm2.5'])\n",
    "ax.set(xlabel='Other params',ylabel='pm2.5')"
   ]
  },
  {
   "cell_type": "markdown",
   "metadata": {},
   "source": [
    "## 3. Shuffle data and split into training and test sets \n",
    "\n",
    "(Estimated time: 20 min)"
   ]
  },
  {
   "cell_type": "code",
   "execution_count": 15,
   "metadata": {},
   "outputs": [
    {
     "name": "stdout",
     "output_type": "stream",
     "text": [
      "(20878, 6) (20879, 6) (20878,) (20879,)\n"
     ]
    }
   ],
   "source": [
    "x_shuffle = df.loc[:,'DEWP':'Ir']\n",
    "y_shuffle = df['pm2.5']\n",
    "\n",
    "train_x,test_x,train_y,test_y = train_test_split(x_shuffle,y_shuffle,test_size=0.5,random_state=20)\n",
    "\n",
    "print(train_x.shape,test_x.shape,train_y.shape,test_y.shape)"
   ]
  },
  {
   "cell_type": "code",
   "execution_count": null,
   "metadata": {},
   "outputs": [],
   "source": [
    "\n",
    "\n"
   ]
  },
  {
   "cell_type": "code",
   "execution_count": null,
   "metadata": {},
   "outputs": [],
   "source": []
  },
  {
   "cell_type": "markdown",
   "metadata": {},
   "source": [
    "## 4. Scale the training and test sets \n",
    "\n",
    "(Estimated time: 20 min)"
   ]
  },
  {
   "cell_type": "code",
   "execution_count": 16,
   "metadata": {},
   "outputs": [],
   "source": [
    "x_scalar = StandardScaler()\n",
    "\n",
    "y_scalar = StandardScaler()\n",
    "\n",
    "x_scalar.fit(train_x)\n",
    "\n",
    "train_x_scaled = x_scalar.transform(train_x)\n",
    "test_x_scaled = x_scalar.transform(test_x)\n",
    "\n",
    "\n",
    "\n",
    "y_scalar.fit(train_y.values.reshape(-1, 1))\n",
    "\n",
    "# 2. scale both y series\n",
    "train_y_scaled = y_scalar.transform(train_y.values.reshape(-1, 1))\n",
    "test_y_scaled = y_scalar.transform(test_y.values.reshape(-1, 1))"
   ]
  },
  {
   "cell_type": "code",
   "execution_count": null,
   "metadata": {},
   "outputs": [],
   "source": []
  },
  {
   "cell_type": "code",
   "execution_count": null,
   "metadata": {},
   "outputs": [],
   "source": []
  },
  {
   "cell_type": "markdown",
   "metadata": {},
   "source": [
    "## 5. Train linear regression and evaluate metrics \n",
    "\n",
    "- Use LinearRegression to fit a linear model on the training data.\n",
    "- Evaluate the metrics for this model using r2_score and mean_square_error\n",
    "\n",
    "(Estimated time: 20 min)"
   ]
  },
  {
   "cell_type": "code",
   "execution_count": 17,
   "metadata": {},
   "outputs": [
    {
     "name": "stdout",
     "output_type": "stream",
     "text": [
      "MSE: 0.7488194817495791\n",
      "R2: 0.23629879918923358\n"
     ]
    }
   ],
   "source": [
    "lin = LinearRegression()\n",
    "lin.fit(train_x_scaled,train_y_scaled)\n",
    "pred_scaled = lin.predict(test_x_scaled)\n",
    "\n",
    "print('MSE:', mean_squared_error(test_y_scaled, pred_scaled)) # lower is better\n",
    "print('R2:', r2_score(test_y_scaled, pred_scaled))"
   ]
  },
  {
   "cell_type": "code",
   "execution_count": 18,
   "metadata": {},
   "outputs": [
    {
     "ename": "NameError",
     "evalue": "name 'train_X_scaled' is not defined",
     "output_type": "error",
     "traceback": [
      "\u001b[1;31m---------------------------------------------------------------------------\u001b[0m",
      "\u001b[1;31mNameError\u001b[0m                                 Traceback (most recent call last)",
      "\u001b[1;32m<ipython-input-18-4df6d0a85031>\u001b[0m in \u001b[0;36m<module>\u001b[1;34m()\u001b[0m\n\u001b[0;32m      3\u001b[0m \u001b[0mlin2\u001b[0m \u001b[1;33m=\u001b[0m \u001b[0mLinearRegression\u001b[0m\u001b[1;33m(\u001b[0m\u001b[1;33m)\u001b[0m\u001b[1;33m\u001b[0m\u001b[0m\n\u001b[0;32m      4\u001b[0m \u001b[1;31m#learning_curve?\u001b[0m\u001b[1;33m\u001b[0m\u001b[1;33m\u001b[0m\u001b[0m\n\u001b[1;32m----> 5\u001b[1;33m \u001b[0mtrain_sizes\u001b[0m\u001b[1;33m,\u001b[0m \u001b[0mtrain_score\u001b[0m\u001b[1;33m,\u001b[0m\u001b[0mval_score\u001b[0m \u001b[1;33m=\u001b[0m \u001b[0mlearning_curve\u001b[0m\u001b[1;33m(\u001b[0m\u001b[0mlin2\u001b[0m\u001b[1;33m,\u001b[0m\u001b[0mtrain_X_scaled\u001b[0m\u001b[1;33m,\u001b[0m\u001b[0mtrain_y_scaled\u001b[0m\u001b[1;33m)\u001b[0m\u001b[1;33m\u001b[0m\u001b[0m\n\u001b[0m\u001b[0;32m      6\u001b[0m \u001b[1;33m\u001b[0m\u001b[0m\n\u001b[0;32m      7\u001b[0m \u001b[1;33m\u001b[0m\u001b[0m\n",
      "\u001b[1;31mNameError\u001b[0m: name 'train_X_scaled' is not defined"
     ]
    }
   ],
   "source": [
    "from sklearn.model_selection import learning_curve\n",
    "\n",
    "lin2 = LinearRegression()\n",
    "#learning_curve?\n",
    "train_sizes, train_score,val_score = learning_curve(lin2,train_X_scaled,train_y_scaled)\n",
    "\n",
    "\n",
    "train_mean=np.mean(train_score,axis=1)\n",
    "val_mean= np.mean(val_score,axis=1)\n",
    "\n",
    "for train_size,t,m in zip(train_sizes,train_mean,val_mean):\n",
    "    print(train_size,t,m)\n",
    "    \n",
    "fig,ax=plt.subplots(figsize=(10,6))\n",
    "ax.plot(train_sizes,train_mean,label='train score',marker='x')\n",
    "ax.plot(train_sizes,val_mean,label='val score',marker='o')\n",
    "ax.grid()\n",
    "ax.legend()\n",
    "ax.set(xlabel='train size',ylabel='r2 score',title='Learning curve for Linear Regression')\n",
    "plt.show()\n"
   ]
  },
  {
   "cell_type": "code",
   "execution_count": null,
   "metadata": {},
   "outputs": [],
   "source": []
  },
  {
   "cell_type": "markdown",
   "metadata": {},
   "source": [
    "## 6. Train linear regression with Stochastic Gradient Descent and evaluate metrics \n",
    "\n",
    "Use SGDRegressor to train a linear model using SGD\n",
    "- Evaluate the metrics for this model using r2_score and mean_square_error\n",
    "- Play around with the parameters to see how the loss is affected\n",
    "\n",
    "(Estimated time: 30 min)"
   ]
  },
  {
   "cell_type": "code",
   "execution_count": null,
   "metadata": {},
   "outputs": [],
   "source": [
    "sgd = SGDRegressor(verbose=True, tol=1e-2,max_iter=2000)\n",
    "\n",
    "sgd.fit(train_x_scaled,train_y_scaled.ravel())\n",
    "pred_scaled_sgd = sgd.predict(test_x_scaled)\n",
    "print('MSE:', mean_squared_error(test_y_scaled, pred_scaled_sgd))\n",
    "print('R2:', r2_score(test_y_scaled, pred_scaled_sgd))\n",
    "\n"
   ]
  },
  {
   "cell_type": "code",
   "execution_count": null,
   "metadata": {},
   "outputs": [],
   "source": [
    "from sklearn.model_selection import learning_curve\n",
    "\n",
    "lin2 = LinearRegression()\n",
    "#learning_curve?\n",
    "train_sizes, train_score,val_score = learning_curve(lin2,train_X_scaled,train_y_scaled)\n",
    "\n",
    "\n",
    "train_mean=np.mean(train_score,axis=1)\n",
    "val_mean= np.mean(val_score,axis=1)\n",
    "\n",
    "for train_size,t,m in zip(train_sizes,train_mean,val_mean):\n",
    "    print(train_size,t,m)\n",
    "    \n",
    "fig,ax=plt.subplots(figsize=(10,6))\n",
    "ax.plot(train_sizes,train_mean,label='train score',marker='x')\n",
    "ax.plot(train_sizes,val_mean,label='val score',marker='o')\n",
    "ax.grid()\n",
    "ax.legend()\n",
    "ax.set(xlabel='train size',ylabel='r2 score',title='Learning curve for Linear Regression')\n",
    "plt.show()\n"
   ]
  },
  {
   "cell_type": "code",
   "execution_count": null,
   "metadata": {},
   "outputs": [],
   "source": []
  },
  {
   "cell_type": "markdown",
   "metadata": {},
   "source": [
    "## 7. Get a prediction\n",
    "\n",
    "Get a few samples from the test dataset (test_X, test_y) and use them to get predictions from both models.\n",
    "\n",
    "The goal is to simulate how the models will be called from python when they are deployed with real data.\n",
    "\n",
    "(Estimated time: 30 min)"
   ]
  },
  {
   "cell_type": "code",
   "execution_count": null,
   "metadata": {},
   "outputs": [],
   "source": []
  },
  {
   "cell_type": "code",
   "execution_count": null,
   "metadata": {},
   "outputs": [],
   "source": []
  },
  {
   "cell_type": "code",
   "execution_count": null,
   "metadata": {},
   "outputs": [],
   "source": []
  },
  {
   "cell_type": "code",
   "execution_count": 24,
   "metadata": {},
   "outputs": [
    {
     "data": {
      "text/html": [
       "<div>\n",
       "<style scoped>\n",
       "    .dataframe tbody tr th:only-of-type {\n",
       "        vertical-align: middle;\n",
       "    }\n",
       "\n",
       "    .dataframe tbody tr th {\n",
       "        vertical-align: top;\n",
       "    }\n",
       "\n",
       "    .dataframe thead th {\n",
       "        text-align: right;\n",
       "    }\n",
       "</style>\n",
       "<table border=\"1\" class=\"dataframe\">\n",
       "  <thead>\n",
       "    <tr style=\"text-align: right;\">\n",
       "      <th></th>\n",
       "      <th>cbwd</th>\n",
       "      <th>0</th>\n",
       "    </tr>\n",
       "  </thead>\n",
       "  <tbody>\n",
       "    <tr>\n",
       "      <th>0</th>\n",
       "      <td>NW</td>\n",
       "      <td>1</td>\n",
       "    </tr>\n",
       "    <tr>\n",
       "      <th>1</th>\n",
       "      <td>NW</td>\n",
       "      <td>1</td>\n",
       "    </tr>\n",
       "    <tr>\n",
       "      <th>2</th>\n",
       "      <td>NW</td>\n",
       "      <td>1</td>\n",
       "    </tr>\n",
       "    <tr>\n",
       "      <th>3</th>\n",
       "      <td>NW</td>\n",
       "      <td>1</td>\n",
       "    </tr>\n",
       "    <tr>\n",
       "      <th>4</th>\n",
       "      <td>NW</td>\n",
       "      <td>1</td>\n",
       "    </tr>\n",
       "  </tbody>\n",
       "</table>\n",
       "</div>"
      ],
      "text/plain": [
       "  cbwd  0\n",
       "0   NW  1\n",
       "1   NW  1\n",
       "2   NW  1\n",
       "3   NW  1\n",
       "4   NW  1"
      ]
     },
     "execution_count": 24,
     "metadata": {},
     "output_type": "execute_result"
    }
   ],
   "source": [
    "from sklearn.preprocessing import LabelEncoder\n",
    "\n",
    "le = LabelEncoder()\n",
    "df = pd.read_csv('C:/Users/thang/Documents/Thangamani/NUS/courseware/mldds-courseware/02_BasicMLAlgorithms/PRSA_data_2010.1.1-2014.12.31.csv')\n",
    "cbwd_encoded = le.fit_transform(df.cbwd)\n",
    "df_tmp = pd.DataFrame(cbwd_encoded,index=df.cbwd.index)\n",
    "df_test=pd.concat([df.cbwd,df_tmp],axis=1)\n",
    "#print(df.cbwd)\n",
    "\n",
    "#print(cbwd_encoded)\n",
    "\n",
    "df_test.head()"
   ]
  },
  {
   "cell_type": "code",
   "execution_count": null,
   "metadata": {},
   "outputs": [],
   "source": [
    "cbwd_one_hot = pd.get_dummies(df.cbwd)\n",
    "\n",
    "df=pd.read_csv('C:/Users/thang/Documents/Thangamani/NUS/courseware/mldds-courseware/02_BasicMLAlgorithms/PRSA_data_2010.1.1-2014.12.31.csv')\n",
    "\n",
    "df.dropna(inplace=True)\n",
    "df2 = pd.concat([df,cbwd_one_hot],axis=1)\n",
    "\n",
    "X = df2.loc[:, ['year', 'month', 'day', 'hour', 'DEWP', 'TEMP', 'PRES',\n",
    "       'Iws', 'Is', 'Ir', 'NE', 'NW', 'SE', 'cv']]\n",
    "y = df2['pm2.5']\n",
    "\n",
    "X.columns\n",
    "\n",
    "train_X, test_X, train_y, test_y = train_test_split(X, y)\n",
    "\n",
    "X_scaler = StandardScaler()\n",
    "y_scaler = StandardScaler()\n",
    "\n",
    "train_X_scaled = X_scaler.fit_transform(train_X)\n",
    "test_X_scaled = X_scaler.transform(test_X)\n",
    "\n",
    "train_y_scaled = y_scaler.fit_transform(train_y.values.reshape(-1, 1))\n",
    "test_y_scaled = y_scaler.transform(test_y. values.reshape(-1, 1))\n",
    "\n",
    "lin = LinearRegression()\n",
    "lin.fit(train_X_scaled, train_y_scaled)\n",
    "\n",
    "lin_pred_scaled = lin.predict(test_X_scaled)\n",
    "\n",
    "print('MSE:', mean_squared_error(test_y_scaled, lin_pred_scaled))\n",
    "print('R2:', r2_score(test_y_scaled, lin_pred_scaled))\n",
    "\n",
    "sgd = SGDRegressor(verbose=True, tol=1e-9, max_iter=1000)\n",
    "sgd.fit(train_X_scaled, train_y_scaled.ravel())\n",
    "\n",
    "sgd_pred_scaled = sgd.predict(test_X_scaled)\n",
    "\n",
    "print('SGD MSE:', mean_squared_error(test_y_scaled, sgd_pred_scaled))\n",
    "print('SGD R2:', r2_score(test_y_scaled, sgd_pred_scaled))\n"
   ]
  },
  {
   "cell_type": "code",
   "execution_count": null,
   "metadata": {},
   "outputs": [],
   "source": [
    "df=pd.read_csv('C:/Users/thang/Documents/Thangamani/NUS/courseware/mldds-courseware/02_BasicMLAlgorithms/PRSA_data_2010.1.1-2014.12.31.csv')\n",
    "df.dropna(inplace=True)\n",
    "\n",
    "le = LabelEncoder()\n",
    "cbwd_encoded = le.fit_transform(df.cbwd)\n",
    "\n",
    "df.dtypes\n",
    "\n",
    "X = df2.loc[:, ['year', 'month', 'day', 'hour', 'DEWP', 'TEMP', 'PRES',\n",
    "       'Iws', 'Is', 'Ir', 'NE', 'NW', 'SE', 'cv']]\n",
    "y = df2['pm2.5']\n",
    "\n",
    "train_X, test_X, train_y, test_y = train_test_split(X, y)\n",
    "\n",
    "X_scaler = StandardScaler()\n",
    "y_scaler = StandardScaler()\n",
    "\n",
    "train_X_scaled = X_scaler.fit_transform(train_X)\n",
    "test_X_scaled = X_scaler.transform(test_X)\n",
    "\n",
    "train_y_scaled = y_scaler.fit_transform(train_y.values.reshape(-1, 1))\n",
    "test_y_scaled = y_scaler.transform(test_y. values.reshape(-1, 1))\n",
    "\n",
    "lin = LinearRegression()\n",
    "lin.fit(train_X_scaled, train_y_scaled)\n",
    "\n",
    "lin_pred_scaled = lin.predict(test_X_scaled)\n",
    "\n",
    "print('MSE:', mean_squared_error(test_y_scaled, lin_pred_scaled))\n",
    "print('R2:', r2_score(test_y_scaled, lin_pred_scaled))\n",
    "\n",
    "sgd = SGDRegressor(verbose=True, tol=1e-9, max_iter=1000)\n",
    "sgd.fit(train_X_scaled, train_y_scaled.ravel())\n",
    "\n",
    "sgd_pred_scaled = sgd.predict(test_X_scaled)\n",
    "\n",
    "print('SGD MSE:', mean_squared_error(test_y_scaled, sgd_pred_scaled))\n",
    "print('SGD R2:', r2_score(test_y_scaled, sgd_pred_scaled))\n",
    "\n",
    "\n",
    "\n",
    "\n"
   ]
  },
  {
   "cell_type": "code",
   "execution_count": null,
   "metadata": {},
   "outputs": [],
   "source": [
    "#Decision Trees\n",
    "\n",
    "# Documentation: http://scikit-learn.org/stable/modules/generated/sklearn.tree.DecisionTreeRegressor.html\n",
    "from sklearn.tree import DecisionTreeRegressor\n",
    "tree = DecisionTreeRegressor()\n",
    "tree.fit(train_X_scaled, train_y_scaled)\n",
    "\n",
    "tree_pred_scaled = tree.predict(test_X_scaled)\n",
    "\n",
    "print('MSE (Decision Tree):', mean_squared_error(test_y_scaled, tree_pred_scaled))\n",
    "print('R2 (Decision Tree):', r2_score(test_y_scaled, tree_pred_scaled))"
   ]
  },
  {
   "cell_type": "code",
   "execution_count": 91,
   "metadata": {},
   "outputs": [
    {
     "name": "stdout",
     "output_type": "stream",
     "text": [
      "2087 0.28770537171423005 0.263783549558611\n",
      "6785 0.27845083191165715 0.27324612692739997\n",
      "11482 0.2778467047351077 0.2739915141809831\n",
      "16180 0.2754217480537171 0.2743283145364099\n",
      "20878 0.275869363056693 0.27470301110877826\n"
     ]
    },
    {
     "data": {
      "image/png": "[encoded data removed]",
      "text/plain": [
       "<Figure size 720x432 with 1 Axes>"
      ]
     },
     "metadata": {},
     "output_type": "display_data"
    }
   ],
   "source": [
    "from sklearn.model_selection import learning_curve\n",
    "\n",
    "lin2 = LinearRegression()\n",
    "#learning_curve?\n",
    "train_sizes, train_score,val_score = learning_curve(lin2,train_X_scaled,train_y_scaled)\n",
    "\n",
    "\n",
    "train_mean=np.mean(train_score,axis=1)\n",
    "val_mean= np.mean(val_score,axis=1)\n",
    "\n",
    "for train_size,t,m in zip(train_sizes,train_mean,val_mean):\n",
    "    print(train_size,t,m)\n",
    "    \n",
    "fig,ax=plt.subplots(figsize=(10,6))\n",
    "ax.plot(train_sizes,train_mean,label='train score',marker='x')\n",
    "ax.plot(train_sizes,val_mean,label='val score',marker='o')\n",
    "ax.grid()\n",
    "\n",
    "ax.legend()\n",
    "ax.set(xlabel='train size',ylabel='r2 score',title='Learning curve for Linear Regression')\n",
    "plt.show()\n"
   ]
  },
  {
   "cell_type": "code",
   "execution_count": null,
   "metadata": {},
   "outputs": [],
   "source": []
  }
 ],
 "metadata": {
  "kernelspec": {
   "display_name": "Python 3",
   "language": "python",
   "name": "python3"
  },
  "language_info": {
   "codemirror_mode": {
    "name": "ipython",
    "version": 3
   },
   "file_extension": ".py",
   "mimetype": "text/x-python",
   "name": "python",
   "nbconvert_exporter": "python",
   "pygments_lexer": "ipython3",
   "version": "3.6.6"
  }
 },
 "nbformat": 4,
 "nbformat_minor": 2
}
